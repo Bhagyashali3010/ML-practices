{
 "cells": [
  {
   "cell_type": "code",
   "execution_count": 1,
   "id": "d94bee8e-f4b1-4b2b-b594-47854afeae9f",
   "metadata": {},
   "outputs": [],
   "source": []
  },
  {
   "cell_type": "code",
   "execution_count": 11,
   "id": "7a0c3abb-789e-4c84-9d33-89dde659bd08",
   "metadata": {},
   "outputs": [],
   "source": [
    "import nltk\n",
    "from nltk.tokenize import word_tokenize\n",
    "from nltk.tokenize import sent_tokenize"
   ]
  },
  {
   "cell_type": "code",
   "execution_count": 3,
   "id": "039b1d42-a5ac-406f-85dc-8a05d0c9568d",
   "metadata": {},
   "outputs": [
    {
     "name": "stdout",
     "output_type": "stream",
     "text": [
      "Requirement already satisfied: nltk in c:\\users\\admin\\appdata\\local\\programs\\python\\python310\\lib\\site-packages (3.8.1)\n",
      "Requirement already satisfied: click in c:\\users\\admin\\appdata\\local\\programs\\python\\python310\\lib\\site-packages (from nltk) (8.1.3)\n",
      "Requirement already satisfied: joblib in c:\\users\\admin\\appdata\\local\\programs\\python\\python310\\lib\\site-packages (from nltk) (1.4.2)\n",
      "Requirement already satisfied: regex>=2021.8.3 in c:\\users\\admin\\appdata\\local\\programs\\python\\python310\\lib\\site-packages (from nltk) (2024.5.15)\n",
      "Requirement already satisfied: tqdm in c:\\users\\admin\\appdata\\local\\programs\\python\\python310\\lib\\site-packages (from nltk) (4.66.4)\n",
      "Requirement already satisfied: colorama in c:\\users\\admin\\appdata\\local\\programs\\python\\python310\\lib\\site-packages (from click->nltk) (0.4.6)\n",
      "Note: you may need to restart the kernel to use updated packages.\n"
     ]
    }
   ],
   "source": [
    "pip install nltk"
   ]
  },
  {
   "cell_type": "code",
   "execution_count": 19,
   "id": "faff9b6c-7bd3-41c2-9f0d-a4522a653eb6",
   "metadata": {},
   "outputs": [],
   "source": [
    "def preprocessing(text):\n",
    "    words=word_tokenize(text)\n",
    "    return words"
   ]
  },
  {
   "cell_type": "code",
   "execution_count": 20,
   "id": "c14ef7ac-865d-4937-8f3e-bd3b4e305bb8",
   "metadata": {},
   "outputs": [],
   "source": [
    "def preprocessing1(text):\n",
    "     \n",
    "    return sentence"
   ]
  },
  {
   "cell_type": "code",
   "execution_count": 50,
   "id": "e4af35fc-082c-4917-a4ff-a465ed7c1f0c",
   "metadata": {},
   "outputs": [],
   "source": [
    "text=\"India won the worldcup cricket match this year. The year 2024 was the best year for indain cricket players.Players like Virat Koli, Rohit Sharma, Jasprit Bhmura, and HArdik Panday played very well. their contribution to the winning of the match was the higest.\" "
   ]
  },
  {
   "cell_type": "code",
   "execution_count": 9,
   "id": "921c5fc4-98d6-47e0-a485-6ba732e8a788",
   "metadata": {},
   "outputs": [
    {
     "name": "stderr",
     "output_type": "stream",
     "text": [
      "[nltk_data] Downloading package punkt to\n",
      "[nltk_data]     C:\\Users\\ADMIN\\AppData\\Roaming\\nltk_data...\n",
      "[nltk_data]   Unzipping tokenizers\\punkt.zip.\n"
     ]
    },
    {
     "data": {
      "text/plain": [
       "True"
      ]
     },
     "execution_count": 9,
     "metadata": {},
     "output_type": "execute_result"
    }
   ],
   "source": [
    "nltk.download('punkt')"
   ]
  },
  {
   "cell_type": "code",
   "execution_count": 22,
   "id": "53adebfa-8fa8-46f1-ab48-9a28124e0f3f",
   "metadata": {},
   "outputs": [
    {
     "name": "stdout",
     "output_type": "stream",
     "text": [
      "['India', 'won', 'the', 'worldcup', 'cricket', 'match', 'this', 'year', '.', 'The', 'year', '2024', 'was', 'the', 'best', 'year', 'for', 'indain', 'cricket', 'players.Players', 'like', 'Virat', 'Koli', ',', 'Rohit', 'Sharma', ',', 'Jasprit', 'Bhmura', ',', 'and', 'HArdik', 'Panday', 'played', 'very', 'well', '.', 'their', 'contribution', 'to', 'the', 'winning', 'of', 'the', 'match', 'was', 'the', 'higest', '.']\n",
      "['India won the worldcup cricket match this year.', 'The year 2024 was the best year for indain cricket players.Players like Virat Koli, Rohit Sharma, Jasprit Bhmura, and HArdik Panday played very well.', 'their contribution to the winning of the match was the higest.']\n"
     ]
    }
   ],
   "source": [
    "pro_text=preprocessing(text)\n",
    "print(pro_text)\n",
    "pro_text1= preprocessing1(text)\n",
    "print(pro_text1)"
   ]
  },
  {
   "cell_type": "code",
   "execution_count": 36,
   "id": "18aa815b-8347-4947-b065-26c4158d42e1",
   "metadata": {},
   "outputs": [
    {
     "name": "stderr",
     "output_type": "stream",
     "text": [
      "[nltk_data] Downloading package stopwords to\n",
      "[nltk_data]     C:\\Users\\ADMIN\\AppData\\Roaming\\nltk_data...\n",
      "[nltk_data]   Unzipping corpora\\stopwords.zip.\n"
     ]
    },
    {
     "data": {
      "text/plain": [
       "True"
      ]
     },
     "execution_count": 36,
     "metadata": {},
     "output_type": "execute_result"
    }
   ],
   "source": [
    "nltk.download('stopwords')"
   ]
  },
  {
   "cell_type": "code",
   "execution_count": 57,
   "id": "1e892881-1e67-425a-9e99-774db5d993ff",
   "metadata": {},
   "outputs": [],
   "source": [
    "from nltk.tokenize import word_tokenize\n",
    "from nltk.corpus import stopwords\n",
    "from nltk.stem import PorterStemmer"
   ]
  },
  {
   "cell_type": "code",
   "execution_count": 58,
   "id": "cbff77cf-5b58-4163-988f-0df31057c2dc",
   "metadata": {},
   "outputs": [],
   "source": [
    "ps=PorterStemmer\n",
    "stop_words=set(stopwords.words('english'))"
   ]
  },
  {
   "cell_type": "code",
   "execution_count": 59,
   "id": "98f07ade-990f-482e-a1bf-513d29d23662",
   "metadata": {},
   "outputs": [],
   "source": [
    "def stem(text):\n",
    "    words = word_tokenize(text)\n",
    "    s_words = {ps.stem(word) for word in words if word.lower() not in stop_words and word.isalpha()}\n",
    "    return s_words\n",
    "    "
   ]
  },
  {
   "cell_type": "code",
   "execution_count": 62,
   "id": "1262ac75-a38a-4314-90b3-a623a5179fb3",
   "metadata": {},
   "outputs": [
    {
     "name": "stdout",
     "output_type": "stream",
     "text": [
      "{'jasprit', 'cricket', 'india', 'play', 'bhmura', 'rohit', 'hardik', 'year', 'higest', 'well', 'like', 'koli', 'panday', 'match', 'indain', 'sharma', 'worldcup', 'virat', 'best', 'contribut', 'win'}\n"
     ]
    }
   ],
   "source": [
    "from nltk.tokenize import word_tokenize\n",
    "from nltk.corpus import stopwords\n",
    "from nltk.stem import PorterStemmer\n",
    "\n",
    "ps = PorterStemmer()\n",
    "stop_words = set(stopwords.words('english'))\n",
    "\n",
    "def stem(text):\n",
    "    words = word_tokenize(text)\n",
    "    s_words = {ps.stem(word) for word in words if word.lower() not in stop_words and word.isalpha()}\n",
    "    return s_words\n",
    "\n",
    "# Example usage\n",
    "text=\"India won the worldcup cricket match this year. The year 2024 was the best year for indain cricket players.Players like Virat Koli, Rohit Sharma, Jasprit Bhmura, and HArdik Panday played very well. their contribution to the winning of the match was the higest.\" \n",
    "pro_text2 = stem(text)\n",
    "print(pro_text2)\n"
   ]
  },
  {
   "cell_type": "code",
   "execution_count": null,
   "id": "c268b50e-6460-4f2e-9048-8cc51b0e26d3",
   "metadata": {},
   "outputs": [],
   "source": []
  },
  {
   "cell_type": "code",
   "execution_count": null,
   "id": "36b078b2-944a-4515-9715-268de013d7ce",
   "metadata": {},
   "outputs": [],
   "source": []
  }
 ],
 "metadata": {
  "kernelspec": {
   "display_name": "Python 3 (ipykernel)",
   "language": "python",
   "name": "python3"
  },
  "language_info": {
   "codemirror_mode": {
    "name": "ipython",
    "version": 3
   },
   "file_extension": ".py",
   "mimetype": "text/x-python",
   "name": "python",
   "nbconvert_exporter": "python",
   "pygments_lexer": "ipython3",
   "version": "3.10.0"
  }
 },
 "nbformat": 4,
 "nbformat_minor": 5
}
